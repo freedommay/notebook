{
 "cells": [
  {
   "cell_type": "code",
   "execution_count": 1,
   "metadata": {},
   "outputs": [],
   "source": [
    "from pyspark import SparkConf, SparkContext"
   ]
  },
  {
   "cell_type": "code",
   "execution_count": 2,
   "metadata": {},
   "outputs": [],
   "source": [
    "conf = SparkConf().setMaster(\"local\").setAppName(\"App\")\n",
    "sc = SparkContext(conf=conf)"
   ]
  },
  {
   "cell_type": "code",
   "execution_count": 3,
   "metadata": {},
   "outputs": [],
   "source": [
    "# 上传本地文件到hdfs spark目录下\n",
    "# hadoop fs -copyFromLocal /data/data.txt /spark/  \n",
    "lines = sc.textFile('hdfs://localhost:9000/spark/data.txt')"
   ]
  },
  {
   "cell_type": "code",
   "execution_count": 4,
   "metadata": {},
   "outputs": [
    {
     "data": {
      "text/plain": [
       "[('one', 2), ('two', 2), ('three', 2), ('four', 2), ('five', 2), ('six', 1)]"
      ]
     },
     "execution_count": 4,
     "metadata": {},
     "output_type": "execute_result"
    }
   ],
   "source": [
    "# 统计单词的数量\n",
    "wordCount = lines.flatMap(lambda line: line.split(\" \")).map(lambda word: (word,1)).reduceByKey(lambda a, b : a + b)\n",
    "wordCount.collect()"
   ]
  },
  {
   "cell_type": "code",
   "execution_count": 5,
   "metadata": {},
   "outputs": [
    {
     "data": {
      "text/plain": [
       "47"
      ]
     },
     "execution_count": 5,
     "metadata": {},
     "output_type": "execute_result"
    }
   ],
   "source": [
    "# 统计字符的数量 \n",
    "lineLengths = lines.map(lambda s:len(s)) \n",
    "lineLengths.reduce(lambda a, b: a + b)"
   ]
  },
  {
   "cell_type": "code",
   "execution_count": 6,
   "metadata": {},
   "outputs": [
    {
     "data": {
      "text/plain": [
       "4"
      ]
     },
     "execution_count": 6,
     "metadata": {},
     "output_type": "execute_result"
    }
   ],
   "source": [
    "# 统计包含'e'的行的数量\n",
    "lines.filter(lambda line: 'e' in line).count()"
   ]
  },
  {
   "cell_type": "code",
   "execution_count": 7,
   "metadata": {},
   "outputs": [
    {
     "data": {
      "text/plain": [
       "3"
      ]
     },
     "execution_count": 7,
     "metadata": {},
     "output_type": "execute_result"
    }
   ],
   "source": [
    "# 找出单行文本中包含单词数量的最大值\n",
    "lines.map(lambda line: len(line.split(\" \"))).reduce(lambda a, b: (a > b and a or b))"
   ]
  },
  {
   "cell_type": "code",
   "execution_count": 8,
   "metadata": {},
   "outputs": [
    {
     "data": {
      "text/plain": [
       "3"
      ]
     },
     "execution_count": 8,
     "metadata": {},
     "output_type": "execute_result"
    }
   ],
   "source": [
    "# 持久化\n",
    "slist = [\"Hadoop\", \"Spark\", \"Hive\"]\n",
    "rdd = sc.parallelize(slist)\n",
    "rdd.cache()\n",
    "rdd.count()"
   ]
  },
  {
   "cell_type": "code",
   "execution_count": 9,
   "metadata": {},
   "outputs": [
    {
     "data": {
      "text/plain": [
       "'Hadoop,Spark,Hive'"
      ]
     },
     "execution_count": 9,
     "metadata": {},
     "output_type": "execute_result"
    }
   ],
   "source": [
    "','.join(rdd.collect())"
   ]
  },
  {
   "cell_type": "code",
   "execution_count": 10,
   "metadata": {},
   "outputs": [],
   "source": [
    "# 键值对RDD 从文件中加载\n",
    "pairRDD1 = lines.flatMap(lambda line: line.split(\" \")).map(lambda word: (word,1))"
   ]
  },
  {
   "cell_type": "code",
   "execution_count": 11,
   "metadata": {},
   "outputs": [],
   "source": [
    "# 并行集合创建RDD\n",
    "pairRDD2 = rdd.map(lambda word: (word, 1))"
   ]
  },
  {
   "cell_type": "code",
   "execution_count": 12,
   "metadata": {},
   "outputs": [
    {
     "data": {
      "text/plain": [
       "[('one', 2), ('two', 2), ('three', 2), ('four', 2), ('five', 2), ('six', 1)]"
      ]
     },
     "execution_count": 12,
     "metadata": {},
     "output_type": "execute_result"
    }
   ],
   "source": [
    "# 合并具有相同键的值\n",
    "pairRDD1.reduceByKey(lambda a, b: a+b).collect()"
   ]
  },
  {
   "cell_type": "code",
   "execution_count": 13,
   "metadata": {},
   "outputs": [
    {
     "data": {
      "text/plain": [
       "[('one', <pyspark.resultiterable.ResultIterable at 0x1ae333ffcc0>),\n",
       " ('two', <pyspark.resultiterable.ResultIterable at 0x1ae333ff940>),\n",
       " ('three', <pyspark.resultiterable.ResultIterable at 0x1ae333ffd30>),\n",
       " ('four', <pyspark.resultiterable.ResultIterable at 0x1ae333ff198>),\n",
       " ('five', <pyspark.resultiterable.ResultIterable at 0x1ae333ffc88>),\n",
       " ('six', <pyspark.resultiterable.ResultIterable at 0x1ae333ffa90>)]"
      ]
     },
     "execution_count": 13,
     "metadata": {},
     "output_type": "execute_result"
    }
   ],
   "source": [
    "# 对具有相同键的值进行分组\n",
    "pairRDD1.groupByKey().collect()"
   ]
  },
  {
   "cell_type": "code",
   "execution_count": 14,
   "metadata": {},
   "outputs": [
    {
     "data": {
      "text/plain": [
       "['one',\n",
       " 'two',\n",
       " 'three',\n",
       " 'four',\n",
       " 'five',\n",
       " 'six',\n",
       " 'four',\n",
       " 'five',\n",
       " 'one',\n",
       " 'two',\n",
       " 'three']"
      ]
     },
     "execution_count": 14,
     "metadata": {},
     "output_type": "execute_result"
    }
   ],
   "source": [
    "# 对RDD中的key返回形成新的RDD\n",
    "pairRDD1.keys().collect()"
   ]
  },
  {
   "cell_type": "code",
   "execution_count": 15,
   "metadata": {},
   "outputs": [
    {
     "data": {
      "text/plain": [
       "[1, 1, 1, 1, 1, 1, 1, 1, 1, 1, 1]"
      ]
     },
     "execution_count": 15,
     "metadata": {},
     "output_type": "execute_result"
    }
   ],
   "source": [
    "# 将RDD中value返回形成新的RDD\n",
    "pairRDD1.values().collect()"
   ]
  },
  {
   "cell_type": "code",
   "execution_count": 16,
   "metadata": {},
   "outputs": [
    {
     "data": {
      "text/plain": [
       "[('five', 1),\n",
       " ('five', 1),\n",
       " ('four', 1),\n",
       " ('four', 1),\n",
       " ('one', 1),\n",
       " ('one', 1),\n",
       " ('six', 1),\n",
       " ('three', 1),\n",
       " ('three', 1),\n",
       " ('two', 1),\n",
       " ('two', 1)]"
      ]
     },
     "execution_count": 16,
     "metadata": {},
     "output_type": "execute_result"
    }
   ],
   "source": [
    "# 根据键进行排序\n",
    "pairRDD1.sortByKey().collect()"
   ]
  },
  {
   "cell_type": "code",
   "execution_count": 17,
   "metadata": {},
   "outputs": [
    {
     "data": {
      "text/plain": [
       "[('one', 2),\n",
       " ('two', 2),\n",
       " ('three', 2),\n",
       " ('four', 2),\n",
       " ('five', 2),\n",
       " ('six', 2),\n",
       " ('four', 2),\n",
       " ('five', 2),\n",
       " ('one', 2),\n",
       " ('two', 2),\n",
       " ('three', 2)]"
      ]
     },
     "execution_count": 17,
     "metadata": {},
     "output_type": "execute_result"
    }
   ],
   "source": [
    "# 对RDD的value部分进行处理\n",
    "pairRDD1.mapValues(lambda x: x + 1).collect()"
   ]
  },
  {
   "cell_type": "code",
   "execution_count": null,
   "metadata": {},
   "outputs": [],
   "source": []
  }
 ],
 "metadata": {
  "kernelspec": {
   "display_name": "Python 3",
   "language": "python",
   "name": "python3"
  },
  "language_info": {
   "codemirror_mode": {
    "name": "ipython",
    "version": 3
   },
   "file_extension": ".py",
   "mimetype": "text/x-python",
   "name": "python",
   "nbconvert_exporter": "python",
   "pygments_lexer": "ipython3",
   "version": "3.6.7"
  }
 },
 "nbformat": 4,
 "nbformat_minor": 1
}
